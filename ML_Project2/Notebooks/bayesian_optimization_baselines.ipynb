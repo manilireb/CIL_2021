{
 "cells": [
  {
   "cell_type": "code",
   "execution_count": 1,
   "metadata": {},
   "outputs": [],
   "source": [
    "%matplotlib inline\n",
    "import numpy as np\n",
    "import scipy\n",
    "import scipy.io\n",
    "import scipy.sparse as sp\n",
    "import matplotlib.pyplot as plt\n",
    "%load_ext autoreload\n",
    "%autoreload 2"
   ]
  },
  {
   "cell_type": "markdown",
   "metadata": {},
   "source": [
    "## Load the data"
   ]
  },
  {
   "cell_type": "code",
   "execution_count": 2,
   "metadata": {},
   "outputs": [],
   "source": [
    "from helpers import load_data, preprocess_data\n",
    "path_dataset = \"Dataset/data_train.csv\"\n",
    "ratings = load_data(path_dataset)"
   ]
  },
  {
   "cell_type": "markdown",
   "metadata": {},
   "source": [
    "## Implementing baselines"
   ]
  },
  {
   "cell_type": "markdown",
   "metadata": {},
   "source": [
    "### SGD"
   ]
  },
  {
   "cell_type": "code",
   "execution_count": 3,
   "metadata": {},
   "outputs": [],
   "source": [
    "from helpers import init_MF, compute_error"
   ]
  },
  {
   "cell_type": "code",
   "execution_count": 4,
   "metadata": {},
   "outputs": [],
   "source": [
    "def matrix_factorization_SGD(train, test, num_features, lambda_user, lambda_item, gamma, reg_step):\n",
    "    \"\"\"matrix factorization by SGD.\"\"\"\n",
    "    \n",
    "    # define parameters\n",
    "    num_epochs = 30\n",
    "    errors = [0]\n",
    "    \n",
    "    # set seed\n",
    "    np.random.seed(1)\n",
    "\n",
    "    # init matrix\n",
    "    user_features, item_features = init_MF(train, num_features)\n",
    "    \n",
    "    # find the non-zero ratings indices \n",
    "    nz_row, nz_col = train.nonzero()\n",
    "    nz_train = list(zip(nz_row, nz_col))\n",
    "    nz_row, nz_col = test.nonzero()\n",
    "    nz_test = list(zip(nz_row, nz_col))\n",
    "\n",
    "    for it in range(num_epochs):        \n",
    "        # shuffle the training rating indices\n",
    "        np.random.shuffle(nz_train)\n",
    "        \n",
    "        # decrease step size\n",
    "        gamma /= reg_step\n",
    "        \n",
    "        for d, n in nz_train:\n",
    "            # update W_d (item_features[:, d]) and Z_n (user_features[:, n])\n",
    "            item_info = item_features[:, d]\n",
    "            user_info = user_features[:, n]\n",
    "            err = train[d, n] - user_info.T.dot(item_info)\n",
    "    \n",
    "            # calculate the gradient and update\n",
    "            item_features[:, d] += gamma * (err * user_info - lambda_item * item_info)\n",
    "            user_features[:, n] += gamma * (err * item_info - lambda_user * user_info)\n",
    "\n",
    "        rmse = compute_error(train, user_features, item_features, nz_train)\n",
    "        \n",
    "        errors.append(rmse)\n",
    "\n",
    "    # evaluate the test error\n",
    "    rmse = compute_error(test, user_features, item_features, nz_test)\n",
    "    \n",
    "    return rmse"
   ]
  },
  {
   "cell_type": "markdown",
   "metadata": {},
   "source": [
    "### ALS"
   ]
  },
  {
   "cell_type": "code",
   "execution_count": 5,
   "metadata": {},
   "outputs": [],
   "source": [
    "from helpers import update_user_feature, update_item_feature\n",
    "from helpers import build_index_groups"
   ]
  },
  {
   "cell_type": "code",
   "execution_count": 6,
   "metadata": {},
   "outputs": [],
   "source": [
    "def ALS(train, test, num_features, lambda_user, lambda_item):\n",
    "    \"\"\"Alternating Least Squares (ALS) algorithm.\"\"\"\n",
    "    \n",
    "    # define parameters\n",
    "    num_epochs = 30\n",
    "    error_list = [0, 0]\n",
    "    \n",
    "    # set seed\n",
    "    np.random.seed(1)\n",
    "\n",
    "    # init ALS\n",
    "    user_features, item_features = init_MF(train, num_features)\n",
    "    \n",
    "    # get the number of non-zero ratings for each user and item\n",
    "    nnz_items_per_user, nnz_users_per_item = train.getnnz(axis=0), train.getnnz(axis=1)\n",
    "    \n",
    "    # group the indices by row or column index\n",
    "    nz_train, nz_item_userindices, nz_user_itemindices = build_index_groups(train)\n",
    "\n",
    "    # run ALS\n",
    "    \n",
    "    for it in range(num_epochs): \n",
    "    \n",
    "        # update user feature & item feature\n",
    "        user_features = update_user_feature(\n",
    "            train, item_features, lambda_user,\n",
    "            nnz_items_per_user, nz_user_itemindices)\n",
    "        item_features = update_item_feature(\n",
    "            train, user_features, lambda_item,\n",
    "            nnz_users_per_item, nz_item_userindices)\n",
    "\n",
    "        error = compute_error(train, user_features, item_features, nz_train)\n",
    "        error_list.append(error)\n",
    "\n",
    "    # evaluate the test error\n",
    "    nnz_row, nnz_col = test.nonzero()\n",
    "    nnz_test = list(zip(nnz_row, nnz_col))\n",
    "    rmse = compute_error(test, user_features, item_features, nnz_test)\n",
    "\n",
    "    return rmse"
   ]
  },
  {
   "cell_type": "markdown",
   "metadata": {},
   "source": [
    "## Baeysian optimization"
   ]
  },
  {
   "cell_type": "code",
   "execution_count": 11,
   "metadata": {},
   "outputs": [],
   "source": [
    "from timeit import default_timer as timer\n",
    "from bayes_opt import BayesianOptimization\n",
    "from sklearn.model_selection import KFold"
   ]
  },
  {
   "cell_type": "markdown",
   "metadata": {},
   "source": [
    "### SGD"
   ]
  },
  {
   "cell_type": "code",
   "execution_count": 12,
   "metadata": {},
   "outputs": [
    {
     "name": "stdout",
     "output_type": "stream",
     "text": [
      "|   iter    |  target   |   gamma   | lambda... | lambda... | num_fe... | reg_step  |\n",
      "-------------------------------------------------------------------------------------\n",
      "| \u001b[0m 1       \u001b[0m | \u001b[0m-1.122   \u001b[0m | \u001b[0m 0.00611 \u001b[0m | \u001b[0m 0.6096  \u001b[0m | \u001b[0m 0.1451  \u001b[0m | \u001b[0m 46.34   \u001b[0m | \u001b[0m 1.149   \u001b[0m |\n",
      "| \u001b[0m 2       \u001b[0m | \u001b[0m-1.171   \u001b[0m | \u001b[0m 0.008059\u001b[0m | \u001b[0m 0.5363  \u001b[0m | \u001b[0m 0.3631  \u001b[0m | \u001b[0m 18.36   \u001b[0m | \u001b[0m 1.119   \u001b[0m |\n",
      "| \u001b[95m 3       \u001b[0m | \u001b[95m-1.088   \u001b[0m | \u001b[95m 0.008768\u001b[0m | \u001b[95m 0.0005  \u001b[0m | \u001b[95m 0.7     \u001b[0m | \u001b[95m 50.0    \u001b[0m | \u001b[95m 1.1     \u001b[0m |\n",
      "| \u001b[0m 4       \u001b[0m | \u001b[0m-1.095   \u001b[0m | \u001b[0m 0.005   \u001b[0m | \u001b[0m 0.7     \u001b[0m | \u001b[0m 0.0005  \u001b[0m | \u001b[0m 5.0     \u001b[0m | \u001b[0m 1.2     \u001b[0m |\n",
      "| \u001b[0m 5       \u001b[0m | \u001b[0m-1.102   \u001b[0m | \u001b[0m 0.01    \u001b[0m | \u001b[0m 0.0005  \u001b[0m | \u001b[0m 0.7     \u001b[0m | \u001b[0m 5.0     \u001b[0m | \u001b[0m 1.1     \u001b[0m |\n",
      "| \u001b[0m 6       \u001b[0m | \u001b[0m-1.117   \u001b[0m | \u001b[0m 0.01    \u001b[0m | \u001b[0m 0.7     \u001b[0m | \u001b[0m 0.0005  \u001b[0m | \u001b[0m 50.0    \u001b[0m | \u001b[0m 1.1     \u001b[0m |\n",
      "=====================================================================================\n",
      "execution time: 404.88693378 minutes.\n"
     ]
    }
   ],
   "source": [
    "tuning_params = dict()\n",
    "\n",
    "tuning_params = {\n",
    "  'num_features': [5,50],\n",
    "  'lambda_user': [0.0005,0.7],\n",
    "  'lambda_item' : [0.0005,0.7],\n",
    "  'gamma' : [0.005,0.01],\n",
    "  'reg_step' : [1.1,1.2]\n",
    " }\n",
    "\n",
    "def BO_func(num_features, lambda_user, lambda_item, gamma, reg_step):\n",
    "    \n",
    "    cv = 3\n",
    "    kf = KFold(n_splits=cv, random_state=1, shuffle=True)\n",
    "    test_RMSE_list = []\n",
    "    \n",
    "    for train_index, val_index in kf.split(ratings):\n",
    "        ratings_train, ratings_val = ratings[train_index], ratings[val_index]\n",
    "        test_RMSE = matrix_factorization_SGD(ratings_train, ratings_val, num_features = int(num_features),\n",
    "                                     lambda_user = lambda_user, \n",
    "                                     lambda_item = lambda_item, gamma = gamma,\n",
    "                                     reg_step = reg_step)\n",
    "        test_RMSE_list.append(test_RMSE)\n",
    "    \n",
    "    mean_test_rmse = np.mean(test_RMSE_list)\n",
    "    \n",
    "    return -mean_test_rmse\n",
    "\n",
    "optimizer = BayesianOptimization(\n",
    "  f = BO_func,\n",
    "  pbounds = tuning_params,\n",
    "  verbose = 10,\n",
    "  random_state = 5, \n",
    " )\n",
    "\n",
    "start = timer()\n",
    "optimizer.maximize(\n",
    "  init_points = 2,\n",
    "  n_iter = 4\n",
    " )\n",
    "end = timer()\n",
    "print(\"execution time: {} hours.\".format((end - start)/3600))"
   ]
  },
  {
   "cell_type": "markdown",
   "metadata": {},
   "source": [
    "### ALS"
   ]
  },
  {
   "cell_type": "code",
   "execution_count": 14,
   "metadata": {},
   "outputs": [
    {
     "name": "stdout",
     "output_type": "stream",
     "text": [
      "|   iter    |  target   | lambda... | lambda... | num_fe... |\n",
      "-------------------------------------------------------------\n",
      "| \u001b[0m 1       \u001b[0m | \u001b[0m-1.125   \u001b[0m | \u001b[0m 0.1558  \u001b[0m | \u001b[0m 0.6096  \u001b[0m | \u001b[0m 14.3    \u001b[0m |\n",
      "| \u001b[0m 2       \u001b[0m | \u001b[0m-1.183   \u001b[0m | \u001b[0m 0.6431  \u001b[0m | \u001b[0m 0.3421  \u001b[0m | \u001b[0m 32.53   \u001b[0m |\n",
      "| \u001b[0m 3       \u001b[0m | \u001b[0m-1.131   \u001b[0m | \u001b[0m 0.7     \u001b[0m | \u001b[0m 0.0005  \u001b[0m | \u001b[0m 5.0     \u001b[0m |\n",
      "| \u001b[95m 4       \u001b[0m | \u001b[95m-1.125   \u001b[0m | \u001b[95m 0.0005  \u001b[0m | \u001b[95m 0.7     \u001b[0m | \u001b[95m 5.0     \u001b[0m |\n",
      "| \u001b[0m 5       \u001b[0m | \u001b[0m-1.279   \u001b[0m | \u001b[0m 0.0005  \u001b[0m | \u001b[0m 0.0005  \u001b[0m | \u001b[0m 10.95   \u001b[0m |\n",
      "| \u001b[0m 6       \u001b[0m | \u001b[0m-1.317   \u001b[0m | \u001b[0m 0.0005  \u001b[0m | \u001b[0m 0.7     \u001b[0m | \u001b[0m 50.0    \u001b[0m |\n",
      "=============================================================\n",
      "execution time: 239.92634829166673 minutes.\n"
     ]
    }
   ],
   "source": [
    "tuning_params = dict()\n",
    "\n",
    "tuning_params = {\n",
    "  'num_features': [5,50],\n",
    "  'lambda_user': [0.0005,0.7],\n",
    "  'lambda_item' : [0.0005,0.7],\n",
    " }\n",
    "\n",
    "def BO_func(num_features, lambda_user, lambda_item):\n",
    "    \n",
    "    cv = 3\n",
    "    kf = KFold(n_splits=cv, random_state=1, shuffle=True)\n",
    "    test_RMSE_list = []\n",
    "    \n",
    "    for train_index, val_index in kf.split(ratings):\n",
    "        ratings_train, ratings_val = ratings[train_index], ratings[val_index]\n",
    "        test_RMSE = ALS(ratings_train, ratings_val, num_features = int(num_features), \n",
    "                lambda_user = lambda_user, lambda_item = lambda_item)\n",
    "        test_RMSE_list.append(test_RMSE)\n",
    "    \n",
    "    mean_test_rmse = np.mean(test_RMSE_list)\n",
    "    \n",
    "    return -mean_test_rmse\n",
    "\n",
    "optimizer = BayesianOptimization(\n",
    "  f = BO_func,\n",
    "  pbounds = tuning_params,\n",
    "  verbose = 10,\n",
    "  random_state = 5, \n",
    " )\n",
    "\n",
    "start = timer()\n",
    "optimizer.maximize(\n",
    "  init_points = 2,\n",
    "  n_iter = 4\n",
    " )\n",
    "end = timer()\n",
    "print(\"execution time: {} hours.\".format((end - start)/3600))"
   ]
  }
 ],
 "metadata": {
  "anaconda-cloud": {},
  "kernelspec": {
   "display_name": "Python 3",
   "language": "python",
   "name": "python3"
  },
  "language_info": {
   "codemirror_mode": {
    "name": "ipython",
    "version": 3
   },
   "file_extension": ".py",
   "mimetype": "text/x-python",
   "name": "python",
   "nbconvert_exporter": "python",
   "pygments_lexer": "ipython3",
   "version": "3.7.4"
  }
 },
 "nbformat": 4,
 "nbformat_minor": 1
}
