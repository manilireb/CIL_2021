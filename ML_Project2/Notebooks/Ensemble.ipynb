{
 "cells": [
  {
   "cell_type": "markdown",
   "metadata": {},
   "source": [
    "In this notebook the optimal weights for bagging are found using bayesian optimization."
   ]
  },
  {
   "cell_type": "code",
   "execution_count": 1,
   "metadata": {},
   "outputs": [],
   "source": [
    "import numpy as np\n",
    "import pandas as pd\n",
    "\n",
    "#surprise package imports\n",
    "from surprise import BaselineOnly\n",
    "from surprise import Dataset\n",
    "from surprise import Reader\n",
    "\n",
    "from surprise import SVD\n",
    "from surprise import Dataset\n",
    "from surprise import accuracy\n",
    "from surprise.model_selection import KFold\n",
    "from surprise.model_selection import cross_validate\n",
    "from surprise.model_selection import train_test_split\n",
    "\n",
    "from surprise import KNNBasic\n",
    "from surprise import KNNWithMeans\n",
    "from surprise import NMF\n",
    "from surprise import KNNWithZScore\n",
    "from surprise import CoClustering\n",
    "\n",
    "#bayes_opt imports\n",
    "from bayes_opt import BayesianOptimization\n",
    "from bayes_opt.observer import JSONLogger\n",
    "from bayes_opt.event import Events\n",
    "\n",
    "import json\n",
    "import csv"
   ]
  },
  {
   "cell_type": "code",
   "execution_count": 2,
   "metadata": {},
   "outputs": [],
   "source": [
    "def create_pd_df(predictions):\n",
    "    '''Creates a pandas DataFrame with columns uid, iid and predictions. Input is a surprise predictions list'''\n",
    "    UID=[]\n",
    "    IID=[]\n",
    "    prediction=[]\n",
    "    for uid,iid,r_ui,est,_ in predictions:\n",
    "        UID.append(uid)\n",
    "        IID.append(iid)\n",
    "        prediction.append(est)\n",
    "    return  pd.DataFrame(np.transpose([UID,IID,prediction]),columns=['uid','iid','prediction'])\n",
    "\n",
    "def get_real_rating(predictions):\n",
    "    '''gets the real ratings from surprise predictions, this function is used to \n",
    "    calculate the rmse when bagging is used '''\n",
    "    real=[]\n",
    "    for uid,iid,r_ui,est,_ in predictions:\n",
    "        real.append(r_ui)\n",
    "    return real\n",
    "\n",
    "\n",
    "def bagging_weighted_sum(algos, weights, names,trainset,testset,submission=False, submission_name=None):\n",
    "    '''This functions creates the weighted sum of the predictions of different algorithems, if submission = True \n",
    "    a csv file to submit is created, if submission = False, the RMSE on the testset is given'''\n",
    "    print('Fitting and predicting for algorithem 1...')\n",
    "    prediction_0=algos[0].fit(trainset).test(testset)\n",
    "    predictions_df=create_pd_df(prediction_0)\n",
    "    predictions_df.columns=['uid','iid',names[0]]\n",
    "    for i in range(1,len(algos)):\n",
    "        print('Fitting and predicting for algorithm '+str(i+1)+'...')\n",
    "        prediction_temp=create_pd_df(algos[i].fit(trainset).test(testset))\n",
    "        predictions_df[names[i]]=prediction_temp['prediction']\n",
    "    print('gathered all predictions, calculating weighted sum...')\n",
    "    \n",
    "    comp_prediction=np.zeros(len(predictions_df['uid']))\n",
    "    for i in range(0, len(names)):\n",
    "        comp_prediction=comp_prediction+weights[i]*predictions_df[names[i]].astype(float)\n",
    "    comb_prediction_df=pd.DataFrame(np.transpose([predictions_df.uid,predictions_df.iid,comp_prediction]),columns=['uid','iid','prediction'])\n",
    "    \n",
    "    if submission == False:\n",
    "        print('calculating test rmse...')\n",
    "        comb_prediction_df['real_rating']=get_real_rating(prediction_0)\n",
    "        return np.sqrt(mean_squared_error(comb_prediction_df.real_rating.values.astype(int),comb_prediction_df.prediction.values.astype(float)))\n",
    "    \n",
    "    elif submission == True:\n",
    "        print('creating submission csv...')\n",
    "        pos=\"r\"+comb_prediction_df.uid.astype(float).astype(int).astype(str)+\"_c\"+comb_prediction_df.iid.astype(float).astype(int).astype(str)\n",
    "        prediction=comb_prediction_df.prediction.astype(float).round(0).astype(int)\n",
    "        pos=list(pos.values)\n",
    "        prediction=list(prediction.values)\n",
    "        pos.insert(0,'Id')\n",
    "        prediction.insert(0,'Prediction')\n",
    "        with open('submission_combined_'+submission_name+'.csv', 'w') as f:\n",
    "            writer = csv.writer(f)\n",
    "            writer.writerows(zip(pos, prediction))\n",
    "        print('submission csv created')\n",
    "\n",
    "def get_opt_parameters(json_file_name):\n",
    "    '''This function reads the json file provided by the bayesian-optimization package and returns the optimal parametrs'''\n",
    "    with open(json_file_name, 'r') as handle:\n",
    "        json_data = [json.loads(line) for line in handle]\n",
    "    rmse=[]\n",
    "    for d in json_data:\n",
    "        rmse.append(d.get('target'))\n",
    "    index=np.where(rmse==np.max(rmse))[0][0]\n",
    "    return json_data[index].get('params')\n"
   ]
  },
  {
   "cell_type": "code",
   "execution_count": 3,
   "metadata": {},
   "outputs": [],
   "source": [
    "reader = Reader(line_format='user item rating', sep='\\t')\n",
    "data = Dataset.load_from_file('ratings.csv', reader=reader)"
   ]
  },
  {
   "cell_type": "markdown",
   "metadata": {},
   "source": [
    "## Ridge Regression"
   ]
  },
  {
   "cell_type": "code",
   "execution_count": 4,
   "metadata": {},
   "outputs": [],
   "source": [
    "op_KNNWithZScoreItemPearson=get_opt_parameters('./outputs/logsKNNWithZScoreItemPearson.json')\n",
    "op_KNNWithMeansItemPearson=get_opt_parameters('./outputs/logsKNNWithMeansItemPearson.json')\n",
    "op_KNNWithZScoreUserPearsonBaseline=get_opt_parameters('./outputs/logsKNNWithZScoreUserPearsonBaseline.json')\n",
    "op_KNNWithMeansUserPearsonBaseline=get_opt_parameters('./outputs/logsKNNWithMeansUserPearsonBaseline.json')\n",
    "op_NMFUnBiased=get_opt_parameters('./outputs/logsNMFUnBiased.json')\n",
    "op_SVDBiased=get_opt_parameters('./outputs/logsSVDBiased.json')\n",
    "op_CoCl=get_opt_parameters(\"./outputs/logsCoCl.json\")\n",
    "\n",
    "\n",
    "KNNWithZScoreItemPearson=KNNWithZScore(k=int(op_KNNWithZScoreItemPearson.get('k')), min_k=int(op_KNNWithZScoreItemPearson.get('min_k')), sim_options={'name': 'pearson',\n",
    "                   'min_support': int(op_KNNWithZScoreItemPearson.get('min_support')),\n",
    "                   'user_based': False},bsl_options = {'method': 'als',\n",
    "               'n_epochs': int(op_KNNWithZScoreItemPearson.get('n_epochs')),\n",
    "               'reg_u': op_KNNWithZScoreItemPearson.get('reg_u'),\n",
    "               'reg_i': op_KNNWithZScoreItemPearson.get('reg_i')\n",
    "               } ,verbose=False)\n",
    "KNNWithMeansItemPearson= KNNWithMeans(k=int(op_KNNWithMeansItemPearson.get('k')), min_k=int(op_KNNWithMeansItemPearson.get('min_k')), sim_options= {'name': 'pearson',\n",
    "                   'min_support':int(op_KNNWithMeansItemPearson.get('min_support')),\n",
    "                   'user_based': False}, bsl_options = {'method': 'als',\n",
    "               'n_epochs': int(op_KNNWithMeansItemPearson.get('n_epochs')),\n",
    "               'reg_u': op_KNNWithMeansItemPearson.get('reg_u'),\n",
    "               'reg_i': op_KNNWithMeansItemPearson.get('reg_i')\n",
    "               } ,verbose=False)\n",
    "\n",
    "KNNWithZScoreUserPearsonBaseline=KNNWithZScore(k=int(op_KNNWithZScoreUserPearsonBaseline.get('k')), min_k=int(op_KNNWithZScoreUserPearsonBaseline.get('min_k')), sim_options={'name': 'pearson_baseline',\n",
    "                   'min_support':int(op_KNNWithZScoreUserPearsonBaseline.get('min_support')),\n",
    "                   'shrinkage':op_KNNWithZScoreUserPearsonBaseline.get('shrinkage'),\n",
    "                   'user_based': True\n",
    "               },bsl_options={'method': 'als',\n",
    "               'n_epochs': int(op_KNNWithZScoreUserPearsonBaseline.get('n_epochs')),\n",
    "               'reg_u': op_KNNWithZScoreUserPearsonBaseline.get('reg_u'),\n",
    "               'reg_i': op_KNNWithZScoreUserPearsonBaseline.get('reg_i')\n",
    "               }, verbose=False)\n",
    "KNNWithMeansUserPearsonBaseline=KNNWithMeans(k=int(op_KNNWithMeansUserPearsonBaseline.get('k')), min_k=int(op_KNNWithMeansUserPearsonBaseline.get('min_k')), sim_options={'name': 'pearson_baseline',\n",
    "                   'min_support':int(op_KNNWithMeansUserPearsonBaseline.get('min_support')),\n",
    "                   'shrinkage':op_KNNWithMeansUserPearsonBaseline.get('shrinkage'),\n",
    "                   'user_based': True\n",
    "               },bsl_options={'method': 'als',\n",
    "               'n_epochs': int(op_KNNWithMeansUserPearsonBaseline.get('n_epochs')),\n",
    "               'reg_u': op_KNNWithMeansUserPearsonBaseline.get('reg_u'),\n",
    "               'reg_i': op_KNNWithMeansUserPearsonBaseline.get('reg_i')\n",
    "               }, verbose=False)\n",
    "NMFUnBiased=NMF(n_factors=int(op_NMFUnBiased.get('n_factors')),lr_bu=op_NMFUnBiased.get('lr_bu'),reg_qi=op_NMFUnBiased.get('reg_qi'),\n",
    "               reg_bu=op_NMFUnBiased.get('reg_bu'),n_epochs=int(op_NMFUnBiased.get('n_epochs')),biased=False)\n",
    "SVDBiased=SVD(n_factors=int(op_SVDBiased.get('n_factors')),lr_pu=op_SVDBiased.get('lr_pu'),lr_bu=op_SVDBiased.get('lr_bu'),lr_bi=op_SVDBiased.get('lr_bi'),reg_qi=op_SVDBiased.get('reg_qi'),\n",
    "               reg_bu=op_SVDBiased.get('reg_bu'),reg_bi=op_SVDBiased.get('reg_bi'),reg_pu=op_SVDBiased.get('reg_pu'),n_epochs=int(op_SVDBiased.get('n_epochs')),biased=True)\n",
    "CoCl=CoClustering(n_epochs=int(op_CoCl.get('n_epochs')),n_cltr_u=int(op_CoCl.get('n_cltr_u')),n_cltr_i=int(op_CoCl.get('n_cltr_i')))\n",
    "\n",
    "algos=[KNNWithZScoreItemPearson,KNNWithMeansItemPearson,KNNWithZScoreUserPearsonBaseline,KNNWithMeansUserPearsonBaseline,NMFUnBiased,SVDBiased,CoCl]\n",
    "names=['KNNWithZScoreItemPearson','KNNWithMeansItemPearson','KNNWithZScoreUserPearsonBaseline','KNNWithMeansUserPearsonBaseline','NMFUnBiased','SVDBiased','CoCl']\n"
   ]
  },
  {
   "cell_type": "code",
   "execution_count": 5,
   "metadata": {},
   "outputs": [],
   "source": [
    "def get_X_y(algos, names,trainset,testset):\n",
    "    '''Returns a df containing all '''\n",
    "    print('Fitting and predicting for algorithem 1...')\n",
    "    prediction_0=algos[0].fit(trainset).test(testset)\n",
    "    predictions_df=create_pd_df(prediction_0)\n",
    "    predictions_df.columns=['uid','iid',names[0]]\n",
    "    for i in range(1,len(algos)):\n",
    "        print('Fitting and predicting for algorithm '+str(i+1)+'...')\n",
    "        prediction_temp=create_pd_df(algos[i].fit(trainset).test(testset))\n",
    "        predictions_df[names[i]]=prediction_temp['prediction']\n",
    "    print('gathered all predictions, getting real ratings')\n",
    "    y=get_real_rating(prediction_0)\n",
    "    return predictions_df ,y "
   ]
  },
  {
   "cell_type": "code",
   "execution_count": 6,
   "metadata": {},
   "outputs": [],
   "source": [
    "full_trainset=data.build_full_trainset()\n",
    "submission_test = Dataset.load_from_file('sub.csv', reader=reader)\n",
    "submission_full_train=submission_test.build_full_trainset()\n",
    "submission_full_testset=submission_full_train.build_testset()"
   ]
  },
  {
   "cell_type": "code",
   "execution_count": 7,
   "metadata": {},
   "outputs": [],
   "source": [
    "trainset, testset = train_test_split(data, test_size=.3)"
   ]
  },
  {
   "cell_type": "code",
   "execution_count": 8,
   "metadata": {},
   "outputs": [
    {
     "name": "stdout",
     "output_type": "stream",
     "text": [
      "Fitting and predicting for algorithem 1...\n",
      "Fitting and predicting for algorithm 2...\n",
      "Fitting and predicting for algorithm 3...\n",
      "Fitting and predicting for algorithm 4...\n",
      "Fitting and predicting for algorithm 5...\n",
      "Fitting and predicting for algorithm 6...\n",
      "Fitting and predicting for algorithm 7...\n",
      "gathered all predictions, getting real ratings\n"
     ]
    }
   ],
   "source": [
    "X,y=get_X_y(algos,names,trainset,testset)"
   ]
  },
  {
   "cell_type": "code",
   "execution_count": 9,
   "metadata": {},
   "outputs": [],
   "source": [
    "from sklearn.linear_model import RidgeCV"
   ]
  },
  {
   "cell_type": "code",
   "execution_count": 10,
   "metadata": {},
   "outputs": [
    {
     "data": {
      "text/plain": [
       "RidgeCV(alphas=array([1.00000000e-03, 1.00926219e-03, 1.01861017e-03, 1.02804473e-03,\n",
       "       1.03756668e-03, 1.04717682e-03, 1.05687597e-03, 1.06666496e-03,\n",
       "       1.07654461e-03, 1.08651577e-03, 1.09657929e-03, 1.10673602e-03,\n",
       "       1.11698682e-03, 1.12733256e-03, 1.13777413e-03, 1.14831241e-03,\n",
       "       1.15894830e-03, 1.16968270e-03, 1.18051653e-03, 1.19145070e-03,\n",
       "       1.20248614e-03, 1.21362380e-0...\n",
       "       8.39312950e+00, 8.47086827e+00, 8.54932707e+00, 8.62851257e+00,\n",
       "       8.70843150e+00, 8.78909065e+00, 8.87049689e+00, 8.95265713e+00,\n",
       "       9.03557835e+00, 9.11926760e+00, 9.20373200e+00, 9.28897872e+00,\n",
       "       9.37501502e+00, 9.46184819e+00, 9.54948564e+00, 9.63793480e+00,\n",
       "       9.72720319e+00, 9.81729841e+00, 9.90822810e+00, 1.00000000e+01]),\n",
       "        cv=None, fit_intercept=True, gcv_mode=None, normalize=False,\n",
       "        scoring=None, store_cv_values=True)"
      ]
     },
     "execution_count": 10,
     "metadata": {},
     "output_type": "execute_result"
    }
   ],
   "source": [
    "alphas=np.logspace(-3,np.log10(10),1000) #we use logspace so we can start close to 0 \n",
    "regressor = RidgeCV(alphas=alphas, store_cv_values=True, cv=None) #if we have cv=none default scoring is MSE\n",
    "regressor.fit(X[names], y)\n"
   ]
  },
  {
   "cell_type": "code",
   "execution_count": 11,
   "metadata": {},
   "outputs": [
    {
     "data": {
      "image/png": "[encoded data removed]",
      "text/plain": [
       "<Figure size 720x360 with 1 Axes>"
      ]
     },
     "metadata": {
      "needs_background": "light"
     },
     "output_type": "display_data"
    }
   ],
   "source": [
    "cv_mse = np.mean(regressor.cv_values_, axis=0)\n",
    "#ploting CV error (MSE) vs. alpha\n",
    "plt.figure(figsize=(10,5))\n",
    "plt.semilogx(alphas,np.abs(cv_mse))\n",
    "plt.ylabel('CV MSE', fontsize=20)\n",
    "plt.xlabel(r'$\\lambda$', fontsize=20)\n",
    "plt.show()"
   ]
  },
  {
   "cell_type": "code",
   "execution_count": 12,
   "metadata": {},
   "outputs": [
    {
     "name": "stdout",
     "output_type": "stream",
     "text": [
      "The best alpha is: 5.293266058360562\n"
     ]
    }
   ],
   "source": [
    "print('The best alpha is:', regressor.alpha_)"
   ]
  },
  {
   "cell_type": "code",
   "execution_count": 13,
   "metadata": {},
   "outputs": [
    {
     "name": "stdout",
     "output_type": "stream",
     "text": [
      "Fitting and predicting for algorithem 1...\n",
      "Fitting and predicting for algorithm 2...\n",
      "Fitting and predicting for algorithm 3...\n",
      "Fitting and predicting for algorithm 4...\n",
      "Fitting and predicting for algorithm 5...\n",
      "Fitting and predicting for algorithm 6...\n",
      "Fitting and predicting for algorithm 7...\n",
      "gathered all predictions, getting real ratings\n"
     ]
    }
   ],
   "source": [
    "X_sub,y_sub=get_X_y(algos,names,full_trainset,submission_full_testset)"
   ]
  },
  {
   "cell_type": "code",
   "execution_count": 14,
   "metadata": {},
   "outputs": [],
   "source": [
    "y_hat=regressor.predict(X_sub[names])"
   ]
  },
  {
   "cell_type": "code",
   "execution_count": 16,
   "metadata": {},
   "outputs": [],
   "source": [
    "df_submission=pd.DataFrame(data=np.transpose([X_sub['uid'],X_sub['iid'],y_hat]), columns=['uid','iid','prediction'])\n",
    "pos=[]\n",
    "prediction=[]\n",
    "for i in range(0,len(y_hat)):\n",
    "    pos.append(\"r\"+str((int(float(df_submission.loc[i,'uid']))))+\"_c\"+str(int(float(df_submission.loc[i,'iid']))))\n",
    "    prediction.append(round(df_submission.loc[i,'prediction']))\n",
    "pos.insert(0,'Id')\n",
    "prediction.insert(0,'Prediction')\n",
    "with open('submission_ridge.csv', 'w') as f:\n",
    "    writer = csv.writer(f)\n",
    "    writer.writerows(zip(pos, prediction))"
   ]
  },
  {
   "cell_type": "code",
   "execution_count": 20,
   "metadata": {},
   "outputs": [],
   "source": [
    "submission_ridge_parameters = dict()\n",
    "submission_ridge_parameters={\n",
    "    'X':X,\n",
    "    'y':y,\n",
    "    'X_sub': X_sub,\n",
    "    'alpha': regressor.alpha_,\n",
    "    'coefficient': regressor.coef_,\n",
    "    'intercept': regressor.intercept_\n",
    "}\n",
    "np.save('outputs/submission_ridge_parameters.npy', submission_ridge_parameters) "
   ]
  }
 ],
 "metadata": {
  "kernelspec": {
   "display_name": "Python 3",
   "language": "python",
   "name": "python3"
  },
  "language_info": {
   "codemirror_mode": {
    "name": "ipython",
    "version": 3
   },
   "file_extension": ".py",
   "mimetype": "text/x-python",
   "name": "python",
   "nbconvert_exporter": "python",
   "pygments_lexer": "ipython3",
   "version": "3.7.4"
  }
 },
 "nbformat": 4,
 "nbformat_minor": 2
}
