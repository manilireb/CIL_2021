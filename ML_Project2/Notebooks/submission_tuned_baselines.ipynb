{
 "cells": [
  {
   "cell_type": "code",
   "execution_count": 1,
   "metadata": {},
   "outputs": [],
   "source": [
    "%matplotlib inline\n",
    "import numpy as np\n",
    "import scipy\n",
    "import scipy.io\n",
    "import scipy.sparse as sp\n",
    "import matplotlib.pyplot as plt\n",
    "%load_ext autoreload\n",
    "%autoreload 2"
   ]
  },
  {
   "cell_type": "markdown",
   "metadata": {},
   "source": [
    "## Load the data"
   ]
  },
  {
   "cell_type": "code",
   "execution_count": 2,
   "metadata": {},
   "outputs": [],
   "source": [
    "from helpers import load_data, preprocess_data\n",
    "path_dataset = \"Datasets/data_train.csv\"\n",
    "ratings = load_data(path_dataset)"
   ]
  },
  {
   "cell_type": "markdown",
   "metadata": {},
   "source": [
    "## SGD Matrix Factorization "
   ]
  },
  {
   "cell_type": "code",
   "execution_count": 3,
   "metadata": {},
   "outputs": [],
   "source": [
    "from helpers import init_MF, compute_error"
   ]
  },
  {
   "cell_type": "markdown",
   "metadata": {},
   "source": [
    "### Implementation"
   ]
  },
  {
   "cell_type": "code",
   "execution_count": 4,
   "metadata": {},
   "outputs": [],
   "source": [
    "def matrix_factorization_SGD(ratings, gamma, num_features, lambda_user, lambda_item, reg_step):\n",
    "    \"\"\"matrix factorization by SGD.\"\"\"\n",
    "    \n",
    "    # define parameters\n",
    "    num_epochs = 30\n",
    "    errors = [0]\n",
    "    \n",
    "    # set seed\n",
    "    np.random.seed(1)\n",
    "\n",
    "    # init matrix\n",
    "    user_features, item_features = init_MF(ratings, num_features)\n",
    "    \n",
    "    # find the non-zero ratings indices \n",
    "    nz_row, nz_col = ratings.nonzero()\n",
    "    nz_ratings = list(zip(nz_row, nz_col))\n",
    "\n",
    "    for it in range(num_epochs):        \n",
    "        # shuffle the ratings indices\n",
    "        np.random.shuffle(nz_ratings)\n",
    "        \n",
    "        # decrease step size\n",
    "        gamma /= reg_step\n",
    "        \n",
    "        for d, n in nz_ratings:\n",
    "            # update W_d (item_features[:, d]) and Z_n (user_features[:, n])\n",
    "            item_info = item_features[:, d]\n",
    "            user_info = user_features[:, n]\n",
    "            err = ratings[d, n] - user_info.T.dot(item_info)\n",
    "    \n",
    "            # calculate the gradient and update\n",
    "            item_features[:, d] += gamma * (err * user_info - lambda_item * item_info)\n",
    "            user_features[:, n] += gamma * (err * item_info - lambda_user * user_info)\n",
    "    \n",
    "    return user_features, item_features"
   ]
  },
  {
   "cell_type": "markdown",
   "metadata": {},
   "source": [
    "### Training"
   ]
  },
  {
   "cell_type": "code",
   "execution_count": 5,
   "metadata": {},
   "outputs": [
    {
     "name": "stdout",
     "output_type": "stream",
     "text": [
      "execution time: 21.68439289166667 minutes.\n"
     ]
    }
   ],
   "source": [
    "from timeit import default_timer as timer\n",
    "\n",
    "start = timer()\n",
    "user_features_SGD, item_features_SGD = matrix_factorization_SGD(ratings, 0.008768 , 50, 0.0005  , 0.7 , 1.1)\n",
    "end = timer()\n",
    "print(\"execution time: {} minutes.\".format((end - start)/60))\n",
    "\n",
    "# The values for the hyperparameters have been chosen through bayesian optimization \n",
    "# as computed in the bayesian_optimization_baselines.ipynb notebook"
   ]
  },
  {
   "cell_type": "markdown",
   "metadata": {},
   "source": [
    "## ALS Matrix Factorization"
   ]
  },
  {
   "cell_type": "code",
   "execution_count": 6,
   "metadata": {},
   "outputs": [],
   "source": [
    "from helpers import update_user_feature, update_item_feature\n",
    "from helpers import build_index_groups"
   ]
  },
  {
   "cell_type": "markdown",
   "metadata": {},
   "source": [
    "### Implementation"
   ]
  },
  {
   "cell_type": "code",
   "execution_count": 7,
   "metadata": {},
   "outputs": [],
   "source": [
    "def ALS(ratings, num_features, lambda_user, lambda_item):\n",
    "    \"\"\"Alternating Least Squares (ALS) algorithm.\"\"\"\n",
    "    \n",
    "    # define parameters\n",
    "    num_epochs = 30\n",
    "    error_list = [0, 0]\n",
    "    \n",
    "    # set seed\n",
    "    np.random.seed(1)\n",
    "\n",
    "    # init ALS\n",
    "    user_features, item_features = init_MF(ratings, num_features)\n",
    "    \n",
    "    # get the number of non-zero ratings for each user and item\n",
    "    nnz_items_per_user, nnz_users_per_item = ratings.getnnz(axis=0), ratings.getnnz(axis=1)\n",
    "    \n",
    "    # group the indices by row or column index\n",
    "    nz_ratings, nz_item_userindices, nz_user_itemindices = build_index_groups(ratings)\n",
    "\n",
    "    for it in range(num_epochs): \n",
    "    \n",
    "        # update user feature & item feature\n",
    "        user_features = update_user_feature(\n",
    "            ratings, item_features, lambda_user,\n",
    "            nnz_items_per_user, nz_user_itemindices)\n",
    "        item_features = update_item_feature(\n",
    "            ratings, user_features, lambda_item,\n",
    "            nnz_users_per_item, nz_item_userindices)\n",
    "\n",
    "    return user_features, item_features"
   ]
  },
  {
   "cell_type": "markdown",
   "metadata": {},
   "source": [
    "### Training"
   ]
  },
  {
   "cell_type": "code",
   "execution_count": 9,
   "metadata": {},
   "outputs": [
    {
     "name": "stdout",
     "output_type": "stream",
     "text": [
      "execution time: 14.110866665000003 minutes.\n"
     ]
    }
   ],
   "source": [
    "start = timer()\n",
    "user_features_ALS, item_features_ALS = ALS(ratings, 5, 0.0005, 0.7)\n",
    "end = timer()\n",
    "print(\"execution time: {} minutes.\".format((end - start)/60))\n",
    "\n",
    "# The values for the hyperparameters have been chosen through bayesian optimization \n",
    "# as computed in the bayesian_optimization_baselines.ipynb notebook"
   ]
  },
  {
   "cell_type": "markdown",
   "metadata": {},
   "source": [
    "## Create submissions"
   ]
  },
  {
   "cell_type": "code",
   "execution_count": 10,
   "metadata": {},
   "outputs": [],
   "source": [
    "path_dataset = \"Datasets/sample_submission.csv\"\n",
    "from helpers import read_txt, load_submission_indexes\n",
    "from helpers import get_coordinate_and_prediction, create_submission\n",
    "sample_indexes =  load_submission_indexes(path_dataset)"
   ]
  },
  {
   "cell_type": "markdown",
   "metadata": {},
   "source": [
    "### SGD submission"
   ]
  },
  {
   "cell_type": "code",
   "execution_count": 11,
   "metadata": {},
   "outputs": [],
   "source": [
    "pos, predictions = create_submission(user_features_SGD, item_features_SGD, sample_indexes)\n",
    "# creat .csv submission file\n",
    "import csv\n",
    "with open('outputs/submission_SGD_tuned.csv','w',newline = '') as f:\n",
    "    writer = csv.writer(f)\n",
    "    writer.writerows(zip(pos, predictions))"
   ]
  },
  {
   "cell_type": "markdown",
   "metadata": {},
   "source": [
    "### ALS submission"
   ]
  },
  {
   "cell_type": "code",
   "execution_count": 12,
   "metadata": {},
   "outputs": [],
   "source": [
    "pos, predictions = create_submission(user_features_ALS, item_features_ALS, sample_indexes)\n",
    "# creat .csv submission file\n",
    "import csv\n",
    "with open('outputs/submission_ALS_tuned.csv','w',newline = '') as f:\n",
    "    writer = csv.writer(f)\n",
    "    writer.writerows(zip(pos, predictions))"
   ]
  }
 ],
 "metadata": {
  "anaconda-cloud": {},
  "kernelspec": {
   "display_name": "Python 3",
   "language": "python",
   "name": "python3"
  },
  "language_info": {
   "codemirror_mode": {
    "name": "ipython",
    "version": 3
   },
   "file_extension": ".py",
   "mimetype": "text/x-python",
   "name": "python",
   "nbconvert_exporter": "python",
   "pygments_lexer": "ipython3",
   "version": "3.7.4"
  }
 },
 "nbformat": 4,
 "nbformat_minor": 1
}
